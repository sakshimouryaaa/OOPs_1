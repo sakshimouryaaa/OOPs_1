{
 "cells": [
  {
   "cell_type": "code",
   "execution_count": 1,
   "id": "355e0663-3615-48bd-8c59-aa3cbbccf9a8",
   "metadata": {},
   "outputs": [],
   "source": [
    "class ATM:\n",
    "    def __init__(self):\n",
    "        self.pin=\"\"\n",
    "        self.balance=0\n",
    "    \n",
    "    def menu(self):\n",
    "        user_input=input(\"\"\" What actions you want to perform\n",
    "            1. Create Pin\n",
    "            2. Deposit Balance\n",
    "            3. Withdraw Funds\n",
    "            4. Check Balance\n",
    "            5. Exit\n",
    "        \"\"\")\n",
    "        \n",
    "        if user_input==\"1\":\n",
    "           self.create_pin()\n",
    "        elif user_input==\"2\":\n",
    "           self.deposite_balance()\n",
    "        elif user_input==\"3\":\n",
    "           self.withdraw()\n",
    "        elif user_input==\"4\":\n",
    "           self.check_balance()\n",
    "        else:\n",
    "           print(\"Exit navigated\")\n",
    "        \n",
    "    \n",
    "    def create_pin(self):\n",
    "        self.pin=int(input(\"Enter your pin\"))\n",
    "        print(\"Pin generated successfully\")\n",
    "        \n",
    "        \n",
    "    def deposite_balance(self):\n",
    "        temp =int(input(\"Enter your pin\"))\n",
    "        if temp== self.pin:\n",
    "            amount= int(input(\"adding money\"))\n",
    "            self.balance=self.balance+ amount\n",
    "        else:\n",
    "                print(\"Incorrect passcode\")\n",
    "        \n",
    "    \n",
    "    \n",
    "    def withdraw(self):\n",
    "        temp=int(input(\"Enter your pin\"))\n",
    "        if temp==self.pin:\n",
    "            amount= int(input(\"Enter amount\"))\n",
    "            amount < self.balance\n",
    "            self.balance= self.balance-amount\n",
    "        else:\n",
    "            print(\"Incorrect passcode\")\n",
    "            \n",
    "    def check_balance(self):\n",
    "        temp=int(input(\"Enter your pin\"))\n",
    "        if temp==self.pin:\n",
    "            print(self.balance)\n",
    "        else:\n",
    "            print(\"incorrect pin\")\n",
    "        \n",
    "            \n",
    "    "
   ]
  },
  {
   "cell_type": "code",
   "execution_count": 2,
   "id": "72367587-690d-4fbf-907e-88a92c33a8da",
   "metadata": {},
   "outputs": [],
   "source": [
    "sbi=ATM()"
   ]
  },
  {
   "cell_type": "code",
   "execution_count": 3,
   "id": "63d72c5f-cdd8-4260-817d-b5fa35521ebb",
   "metadata": {},
   "outputs": [
    {
     "name": "stdin",
     "output_type": "stream",
     "text": [
      " What actions you want to perform\n",
      "            1. Create Pin\n",
      "            2. Deposit Balance\n",
      "            3. Withdraw Funds\n",
      "            4. Check Balance\n",
      "            5. Exit\n",
      "         1\n",
      "Enter your pin 1234\n"
     ]
    },
    {
     "name": "stdout",
     "output_type": "stream",
     "text": [
      "Pin generated successfully\n"
     ]
    }
   ],
   "source": [
    "sbi.menu()"
   ]
  },
  {
   "cell_type": "code",
   "execution_count": 4,
   "id": "957d4c98-49ec-473f-8a33-6506be01b4bf",
   "metadata": {},
   "outputs": [
    {
     "name": "stdin",
     "output_type": "stream",
     "text": [
      "Enter your pin 1234\n",
      "adding money 48000\n"
     ]
    }
   ],
   "source": [
    "sbi.deposite_balance()"
   ]
  },
  {
   "cell_type": "code",
   "execution_count": 5,
   "id": "fb6338df-7610-4438-9bb4-330da466e6d3",
   "metadata": {},
   "outputs": [
    {
     "name": "stdin",
     "output_type": "stream",
     "text": [
      "Enter your pin 1234\n",
      "Enter amount 40000\n"
     ]
    }
   ],
   "source": [
    "sbi.withdraw()"
   ]
  },
  {
   "cell_type": "code",
   "execution_count": 6,
   "id": "582e6389-5638-4442-9ed9-8d4e82fe6aaf",
   "metadata": {},
   "outputs": [
    {
     "name": "stdin",
     "output_type": "stream",
     "text": [
      "Enter your pin 1234\n"
     ]
    },
    {
     "name": "stdout",
     "output_type": "stream",
     "text": [
      "8000\n"
     ]
    }
   ],
   "source": [
    "sbi.check_balance()"
   ]
  },
  {
   "cell_type": "code",
   "execution_count": 7,
   "id": "9aa4c4bb-5ec1-4230-8b27-8eb974300b98",
   "metadata": {},
   "outputs": [
    {
     "name": "stdin",
     "output_type": "stream",
     "text": [
      "Enter your pin 1234\n",
      "adding money 80000\n"
     ]
    }
   ],
   "source": [
    "sbi.deposite_balance()"
   ]
  },
  {
   "cell_type": "code",
   "execution_count": 8,
   "id": "f5ef96e2-0bab-4212-96c5-cb06f23029c3",
   "metadata": {},
   "outputs": [
    {
     "name": "stdin",
     "output_type": "stream",
     "text": [
      "Enter your pin 1234\n"
     ]
    },
    {
     "name": "stdout",
     "output_type": "stream",
     "text": [
      "88000\n"
     ]
    }
   ],
   "source": [
    "sbi.check_balance()"
   ]
  },
  {
   "cell_type": "code",
   "execution_count": 9,
   "id": "d1bf1d85-14dc-4b1d-a732-810952a20b58",
   "metadata": {},
   "outputs": [
    {
     "name": "stdin",
     "output_type": "stream",
     "text": [
      " What actions you want to perform\n",
      "            1. Create Pin\n",
      "            2. Deposit Balance\n",
      "            3. Withdraw Funds\n",
      "            4. Check Balance\n",
      "            5. Exit\n",
      "         5\n"
     ]
    },
    {
     "name": "stdout",
     "output_type": "stream",
     "text": [
      "Exit navigated\n"
     ]
    }
   ],
   "source": [
    "sbi.menu()"
   ]
  },
  {
   "cell_type": "code",
   "execution_count": null,
   "id": "67380bb3-5df5-4a48-aef2-14819a0dcbf0",
   "metadata": {},
   "outputs": [],
   "source": []
  }
 ],
 "metadata": {
  "kernelspec": {
   "display_name": "Python 3 (ipykernel)",
   "language": "python",
   "name": "python3"
  },
  "language_info": {
   "codemirror_mode": {
    "name": "ipython",
    "version": 3
   },
   "file_extension": ".py",
   "mimetype": "text/x-python",
   "name": "python",
   "nbconvert_exporter": "python",
   "pygments_lexer": "ipython3",
   "version": "3.10.8"
  }
 },
 "nbformat": 4,
 "nbformat_minor": 5
}
